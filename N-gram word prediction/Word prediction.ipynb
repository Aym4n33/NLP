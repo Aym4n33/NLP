{
 "cells": [
  {
   "cell_type": "code",
   "execution_count": 43,
   "id": "01414a2d-4552-4016-8453-4a94b296c9e3",
   "metadata": {},
   "outputs": [],
   "source": [
    "import nltk\n",
    "from nltk.corpus import brown\n",
    "from nltk.tokenize import word_tokenize\n",
    "from nltk.util import ngrams\n",
    "import re\n"
   ]
  },
  {
   "cell_type": "markdown",
   "id": "e0d3c279-d96d-4ede-9598-4d1fbffb34f0",
   "metadata": {},
   "source": [
    "Importing the corpus"
   ]
  },
  {
   "cell_type": "code",
   "execution_count": 15,
   "id": "6d328c2c-38a8-4bec-818c-6a1f5e8e9bc9",
   "metadata": {},
   "outputs": [
    {
     "name": "stderr",
     "output_type": "stream",
     "text": [
      "[nltk_data] Downloading package brown to\n",
      "[nltk_data]     C:\\Users\\Aymane\\AppData\\Roaming\\nltk_data...\n",
      "[nltk_data]   Package brown is already up-to-date!\n"
     ]
    },
    {
     "name": "stdout",
     "output_type": "stream",
     "text": [
      "[\"The Fulton County Grand Jury said Friday an investigation of Atlanta's recent primary election produced `` no evidence '' that any irregularities took place .\", \"The jury further said in term-end presentments that the City Executive Committee , which had over-all charge of the election , `` deserves the praise and thanks of the City of Atlanta '' for the manner in which the election was conducted .\", \"The September-October term jury had been charged by Fulton Superior Court Judge Durwood Pye to investigate reports of possible `` irregularities '' in the hard-fought primary which was won by Mayor-nominate Ivan Allen Jr. .\", \"`` Only a relative handful of such reports was received '' , the jury said , `` considering the widespread interest in the election , the number of voters and the size of this city '' .\", \"The jury said it did find that many of Georgia's registration and election laws `` are outmoded or inadequate and often ambiguous '' .\"]\n"
     ]
    }
   ],
   "source": [
    "nltk.download('brown')\n",
    "\n",
    "sentences = [' '.join(words) for words in brown.sents()]\n",
    "\n",
    "print(sentences[:5])  \n"
   ]
  },
  {
   "cell_type": "markdown",
   "id": "ae039922-9a31-4fc7-8d26-877d7b471c51",
   "metadata": {},
   "source": [
    "__Corpus Normalization Steps__\n",
    "\n",
    "Before processing any corpus, several steps must be followed to prepare the corpus in a format suitable for analysis. This process is called **normalization**. The steps include:\n",
    "\n",
    "__Case Folding__\n",
    "- Transform the entire corpus content into **lowercase characters** to ensure uniformity.\n",
    "\n",
    "__Tokenization__\n",
    "- Divide the text into smaller units, such as:\n",
    "  - **Words**\n",
    "  - **Subwords**\n",
    "  - **Other entities**\n",
    "- The choice of units depends on various factors, including the algorithm used and the corpus characteristics.\n",
    "\n",
    "__Special Characters Management__\n",
    "- Remove all **punctuation marks**, as I do not consider them as words in this application.\n",
    "- Add two special characters:\n",
    "  - `<s>`: Marks the **start** of a sentence.\n",
    "  - `</s>`: Marks the **end** of a sentence.\n"
   ]
  },
  {
   "cell_type": "code",
   "execution_count": 16,
   "id": "b37e23ff-e151-45cb-a10c-9c5ba6fc4c8c",
   "metadata": {},
   "outputs": [
    {
     "name": "stdout",
     "output_type": "stream",
     "text": [
      "[\"the fulton county grand jury said friday an investigation of atlanta's recent primary election produced `` no evidence '' that any irregularities took place .\", \"the jury further said in term-end presentments that the city executive committee , which had over-all charge of the election , `` deserves the praise and thanks of the city of atlanta '' for the manner in which the election was conducted .\", \"the september-october term jury had been charged by fulton superior court judge durwood pye to investigate reports of possible `` irregularities '' in the hard-fought primary which was won by mayor-nominate ivan allen jr. .\", \"`` only a relative handful of such reports was received '' , the jury said , `` considering the widespread interest in the election , the number of voters and the size of this city '' .\", \"the jury said it did find that many of georgia's registration and election laws `` are outmoded or inadequate and often ambiguous '' .\"]\n"
     ]
    }
   ],
   "source": [
    "lower_sentences = [sentence.lower() for sentence in sentences]\n",
    "\n",
    "print(lower_sentences[:5])  \n"
   ]
  },
  {
   "cell_type": "markdown",
   "id": "cec42baf-6cc5-466c-a624-66e58fcb8586",
   "metadata": {},
   "source": [
    "Now I will use regular expressions to match all the non alphanumerical characters and remove them (except the white space)"
   ]
  },
  {
   "cell_type": "code",
   "execution_count": 38,
   "id": "1488ded2-f014-4fb8-9be4-69e8a548c55a",
   "metadata": {},
   "outputs": [
    {
     "name": "stdout",
     "output_type": "stream",
     "text": [
      "['the fulton county grand jury said friday an investigation of atlanta s recent primary election produced    no evidence    that any irregularities took place  ', 'the jury further said in term end presentments that the city executive committee   which had over all charge of the election      deserves the praise and thanks of the city of atlanta    for the manner in which the election was conducted  ', 'the september october term jury had been charged by fulton superior court judge durwood pye to investigate reports of possible    irregularities    in the hard fought primary which was won by mayor nominate ivan allen jr   ', '   only a relative handful of such reports was received      the jury said      considering the widespread interest in the election   the number of voters and the size of this city     ', 'the jury said it did find that many of georgia s registration and election laws    are outmoded or inadequate and often ambiguous     ']\n"
     ]
    }
   ],
   "source": [
    "cleaned_sentences = [re.sub(r'[^\\w\\s]',' ',sentence) for sentence in lower_sentences]\n",
    "print(cleaned_sentences[:5]) "
   ]
  },
  {
   "cell_type": "markdown",
   "id": "7184d9d5-b0fb-45bf-bdfb-7b46614ee364",
   "metadata": {},
   "source": [
    "For the tokenization task, I will use the punkt tokenizer which is a prebuilt and trained tokenizer from nltk. I will try to implement the BPE algorithm, which is a tokenization algorithm, later and show the steps behind it. But for now lets stick with this."
   ]
  },
  {
   "cell_type": "code",
   "execution_count": 33,
   "id": "f58aefe7-3d12-467e-976a-dc55265a7fa8",
   "metadata": {},
   "outputs": [
    {
     "name": "stderr",
     "output_type": "stream",
     "text": [
      "[nltk_data] Downloading package punkt to\n",
      "[nltk_data]     C:\\Users\\Aymane\\AppData\\Roaming\\nltk_data...\n",
      "[nltk_data]   Unzipping tokenizers\\punkt.zip.\n",
      "[nltk_data] Downloading package wordnet to\n",
      "[nltk_data]     C:\\Users\\Aymane\\AppData\\Roaming\\nltk_data...\n",
      "[nltk_data]   Package wordnet is already up-to-date!\n",
      "[nltk_data] Downloading package omw-1.4 to\n",
      "[nltk_data]     C:\\Users\\Aymane\\AppData\\Roaming\\nltk_data...\n",
      "[nltk_data]   Package omw-1.4 is already up-to-date!\n",
      "[nltk_data] Downloading package punkt_tab to\n",
      "[nltk_data]     C:\\Users\\Aymane\\AppData\\Roaming\\nltk_data...\n",
      "[nltk_data]   Unzipping tokenizers\\punkt_tab.zip.\n"
     ]
    },
    {
     "data": {
      "text/plain": [
       "True"
      ]
     },
     "execution_count": 33,
     "metadata": {},
     "output_type": "execute_result"
    }
   ],
   "source": [
    "nltk.download('punkt')\n",
    "nltk.download('wordnet')\n",
    "nltk.download('omw-1.4')\n",
    "nltk.download('punkt_tab')\n"
   ]
  },
  {
   "cell_type": "code",
   "execution_count": 40,
   "id": "4486349e-413b-4260-9789-7298af8e5fcc",
   "metadata": {},
   "outputs": [
    {
     "name": "stdout",
     "output_type": "stream",
     "text": [
      "[['the', 'fulton', 'county', 'grand', 'jury', 'said', 'friday', 'an', 'investigation', 'of', 'atlanta', 's', 'recent', 'primary', 'election', 'produced', 'no', 'evidence', 'that', 'any', 'irregularities', 'took', 'place'], ['the', 'jury', 'further', 'said', 'in', 'term', 'end', 'presentments', 'that', 'the', 'city', 'executive', 'committee', 'which', 'had', 'over', 'all', 'charge', 'of', 'the', 'election', 'deserves', 'the', 'praise', 'and', 'thanks', 'of', 'the', 'city', 'of', 'atlanta', 'for', 'the', 'manner', 'in', 'which', 'the', 'election', 'was', 'conducted'], ['the', 'september', 'october', 'term', 'jury', 'had', 'been', 'charged', 'by', 'fulton', 'superior', 'court', 'judge', 'durwood', 'pye', 'to', 'investigate', 'reports', 'of', 'possible', 'irregularities', 'in', 'the', 'hard', 'fought', 'primary', 'which', 'was', 'won', 'by', 'mayor', 'nominate', 'ivan', 'allen', 'jr'], ['only', 'a', 'relative', 'handful', 'of', 'such', 'reports', 'was', 'received', 'the', 'jury', 'said', 'considering', 'the', 'widespread', 'interest', 'in', 'the', 'election', 'the', 'number', 'of', 'voters', 'and', 'the', 'size', 'of', 'this', 'city'], ['the', 'jury', 'said', 'it', 'did', 'find', 'that', 'many', 'of', 'georgia', 's', 'registration', 'and', 'election', 'laws', 'are', 'outmoded', 'or', 'inadequate', 'and', 'often', 'ambiguous']]\n"
     ]
    }
   ],
   "source": [
    "tokenized_sentences = [word_tokenize(sentence)for sentence in cleaned_sentences]\n",
    "print(tokenized_sentences[:5])"
   ]
  },
  {
   "cell_type": "markdown",
   "id": "08e8b073-cb7b-440b-ad0b-6a9d81565dbf",
   "metadata": {},
   "source": [
    "Now I add the special markers to the beggining and the end of each sentence, note that i added two `<s>` at the beggining of each sentence since im going to use a trigram model."
   ]
  },
  {
   "cell_type": "code",
   "execution_count": 42,
   "id": "956696ca-1bf7-4bc7-a721-add6bb888f5e",
   "metadata": {},
   "outputs": [
    {
     "name": "stdout",
     "output_type": "stream",
     "text": [
      "[['<s>', '<s>', 'the', 'fulton', 'county', 'grand', 'jury', 'said', 'friday', 'an', 'investigation', 'of', 'atlanta', 's', 'recent', 'primary', 'election', 'produced', 'no', 'evidence', 'that', 'any', 'irregularities', 'took', 'place', '</s>'], ['<s>', '<s>', 'the', 'jury', 'further', 'said', 'in', 'term', 'end', 'presentments', 'that', 'the', 'city', 'executive', 'committee', 'which', 'had', 'over', 'all', 'charge', 'of', 'the', 'election', 'deserves', 'the', 'praise', 'and', 'thanks', 'of', 'the', 'city', 'of', 'atlanta', 'for', 'the', 'manner', 'in', 'which', 'the', 'election', 'was', 'conducted', '</s>'], ['<s>', '<s>', 'the', 'september', 'october', 'term', 'jury', 'had', 'been', 'charged', 'by', 'fulton', 'superior', 'court', 'judge', 'durwood', 'pye', 'to', 'investigate', 'reports', 'of', 'possible', 'irregularities', 'in', 'the', 'hard', 'fought', 'primary', 'which', 'was', 'won', 'by', 'mayor', 'nominate', 'ivan', 'allen', 'jr', '</s>'], ['<s>', '<s>', 'only', 'a', 'relative', 'handful', 'of', 'such', 'reports', 'was', 'received', 'the', 'jury', 'said', 'considering', 'the', 'widespread', 'interest', 'in', 'the', 'election', 'the', 'number', 'of', 'voters', 'and', 'the', 'size', 'of', 'this', 'city', '</s>'], ['<s>', '<s>', 'the', 'jury', 'said', 'it', 'did', 'find', 'that', 'many', 'of', 'georgia', 's', 'registration', 'and', 'election', 'laws', 'are', 'outmoded', 'or', 'inadequate', 'and', 'often', 'ambiguous', '</s>']]\n"
     ]
    }
   ],
   "source": [
    "normalized_sentences = [['<s>','<s>'] + sentence + ['</s>'] for sentence in tokenized_sentences]\n",
    "print(normalized_sentences[:5])"
   ]
  },
  {
   "cell_type": "markdown",
   "id": "536118ce-5656-4682-b82a-9789db0453ce",
   "metadata": {},
   "source": [
    "Here I will calculate all the trigrams,bigrams and unigrams in the corpus. they will be used for the interpollation smoothing (to deal with with zero probabilty n grams and perform better)"
   ]
  },
  {
   "cell_type": "code",
   "execution_count": 47,
   "id": "d0d9bb80-5505-4ecd-94b8-711d9997dd81",
   "metadata": {},
   "outputs": [],
   "source": [
    "trigrams_corpus =[list(ngrams(sentence,3)) for sentence in normalized_sentences]\n",
    "bigrams_corpus =[list(ngrams(sentence,2)) for sentence in normalized_sentences]\n",
    "unigrams_corpus =[list(ngrams(sentence,1)) for sentence in normalized_sentences]\n"
   ]
  },
  {
   "cell_type": "code",
   "execution_count": null,
   "id": "b6fd51eb-6dde-47de-9154-3ca6f7dcc263",
   "metadata": {},
   "outputs": [],
   "source": []
  }
 ],
 "metadata": {
  "kernelspec": {
   "display_name": "Python 3 (ipykernel)",
   "language": "python",
   "name": "python3"
  },
  "language_info": {
   "codemirror_mode": {
    "name": "ipython",
    "version": 3
   },
   "file_extension": ".py",
   "mimetype": "text/x-python",
   "name": "python",
   "nbconvert_exporter": "python",
   "pygments_lexer": "ipython3",
   "version": "3.10.10"
  }
 },
 "nbformat": 4,
 "nbformat_minor": 5
}
