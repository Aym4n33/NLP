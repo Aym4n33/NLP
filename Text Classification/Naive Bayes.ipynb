{
 "cells": [
  {
   "cell_type": "code",
   "execution_count": 190,
   "id": "0f65b765-d25a-49c0-a285-a4d9c7c23a6b",
   "metadata": {},
   "outputs": [],
   "source": [
    "import pandas as pd\n",
    "from sklearn.model_selection import train_test_split\n",
    "import re\n",
    "import nltk\n",
    "from nltk.tokenize import word_tokenize\n",
    "from collections import Counter\n",
    "import numpy as np\n",
    "from sklearn.metrics import classification_report\n"
   ]
  },
  {
   "cell_type": "code",
   "execution_count": 171,
   "id": "aa8de098-2245-4c6b-b3bf-1c8cb96ac16c",
   "metadata": {},
   "outputs": [],
   "source": [
    "df = pd.read_csv('bbc_data.csv')"
   ]
  },
  {
   "cell_type": "code",
   "execution_count": 172,
   "id": "a3497889-9908-4144-9903-b1f0fb484643",
   "metadata": {},
   "outputs": [
    {
     "name": "stdout",
     "output_type": "stream",
     "text": [
      "<class 'pandas.core.frame.DataFrame'>\n",
      "RangeIndex: 2225 entries, 0 to 2224\n",
      "Data columns (total 2 columns):\n",
      " #   Column  Non-Null Count  Dtype \n",
      "---  ------  --------------  ----- \n",
      " 0   data    2225 non-null   object\n",
      " 1   labels  2225 non-null   object\n",
      "dtypes: object(2)\n",
      "memory usage: 34.9+ KB\n"
     ]
    }
   ],
   "source": [
    "df.info()"
   ]
  },
  {
   "cell_type": "code",
   "execution_count": 173,
   "id": "6cde4f23-a07e-4d34-903f-85ae256481a6",
   "metadata": {},
   "outputs": [
    {
     "data": {
      "text/html": [
       "<div>\n",
       "<style scoped>\n",
       "    .dataframe tbody tr th:only-of-type {\n",
       "        vertical-align: middle;\n",
       "    }\n",
       "\n",
       "    .dataframe tbody tr th {\n",
       "        vertical-align: top;\n",
       "    }\n",
       "\n",
       "    .dataframe thead th {\n",
       "        text-align: right;\n",
       "    }\n",
       "</style>\n",
       "<table border=\"1\" class=\"dataframe\">\n",
       "  <thead>\n",
       "    <tr style=\"text-align: right;\">\n",
       "      <th></th>\n",
       "      <th>data</th>\n",
       "      <th>labels</th>\n",
       "    </tr>\n",
       "  </thead>\n",
       "  <tbody>\n",
       "    <tr>\n",
       "      <th>0</th>\n",
       "      <td>Musicians to tackle US red tape  Musicians gro...</td>\n",
       "      <td>entertainment</td>\n",
       "    </tr>\n",
       "    <tr>\n",
       "      <th>1</th>\n",
       "      <td>U2s desire to be number one  U2, who have won ...</td>\n",
       "      <td>entertainment</td>\n",
       "    </tr>\n",
       "    <tr>\n",
       "      <th>2</th>\n",
       "      <td>Rocker Doherty in on-stage fight  Rock singer ...</td>\n",
       "      <td>entertainment</td>\n",
       "    </tr>\n",
       "    <tr>\n",
       "      <th>3</th>\n",
       "      <td>Snicket tops US box office chart  The film ada...</td>\n",
       "      <td>entertainment</td>\n",
       "    </tr>\n",
       "    <tr>\n",
       "      <th>4</th>\n",
       "      <td>Oceans Twelve raids box office  Oceans Twelve,...</td>\n",
       "      <td>entertainment</td>\n",
       "    </tr>\n",
       "    <tr>\n",
       "      <th>...</th>\n",
       "      <td>...</td>\n",
       "      <td>...</td>\n",
       "    </tr>\n",
       "    <tr>\n",
       "      <th>2220</th>\n",
       "      <td>Warning over Windows Word files  Writing a Mic...</td>\n",
       "      <td>tech</td>\n",
       "    </tr>\n",
       "    <tr>\n",
       "      <th>2221</th>\n",
       "      <td>Fast lifts rise into record books  Two high-sp...</td>\n",
       "      <td>tech</td>\n",
       "    </tr>\n",
       "    <tr>\n",
       "      <th>2222</th>\n",
       "      <td>Nintendo adds media playing to DS  Nintendo is...</td>\n",
       "      <td>tech</td>\n",
       "    </tr>\n",
       "    <tr>\n",
       "      <th>2223</th>\n",
       "      <td>Fast moving phone viruses appear  Security fir...</td>\n",
       "      <td>tech</td>\n",
       "    </tr>\n",
       "    <tr>\n",
       "      <th>2224</th>\n",
       "      <td>Hacker threat to Apples iTunes  Users of Apple...</td>\n",
       "      <td>tech</td>\n",
       "    </tr>\n",
       "  </tbody>\n",
       "</table>\n",
       "<p>2225 rows × 2 columns</p>\n",
       "</div>"
      ],
      "text/plain": [
       "                                                   data         labels\n",
       "0     Musicians to tackle US red tape  Musicians gro...  entertainment\n",
       "1     U2s desire to be number one  U2, who have won ...  entertainment\n",
       "2     Rocker Doherty in on-stage fight  Rock singer ...  entertainment\n",
       "3     Snicket tops US box office chart  The film ada...  entertainment\n",
       "4     Oceans Twelve raids box office  Oceans Twelve,...  entertainment\n",
       "...                                                 ...            ...\n",
       "2220  Warning over Windows Word files  Writing a Mic...           tech\n",
       "2221  Fast lifts rise into record books  Two high-sp...           tech\n",
       "2222  Nintendo adds media playing to DS  Nintendo is...           tech\n",
       "2223  Fast moving phone viruses appear  Security fir...           tech\n",
       "2224  Hacker threat to Apples iTunes  Users of Apple...           tech\n",
       "\n",
       "[2225 rows x 2 columns]"
      ]
     },
     "execution_count": 173,
     "metadata": {},
     "output_type": "execute_result"
    }
   ],
   "source": [
    "df"
   ]
  },
  {
   "cell_type": "code",
   "execution_count": 174,
   "id": "18e6d326-dc50-4314-8e2d-a7f757e5ab91",
   "metadata": {},
   "outputs": [],
   "source": [
    "y = df['labels']\n",
    "X = df['data']\n",
    "\n",
    "X_train, X_test, y_train, y_test = train_test_split(X, y, test_size=0.2, random_state=42)\n"
   ]
  },
  {
   "cell_type": "markdown",
   "id": "a5eedc6e-d5e1-44fc-8177-ae47c4ac8fb0",
   "metadata": {},
   "source": [
    "### Training Phase"
   ]
  },
  {
   "cell_type": "markdown",
   "id": "dbf8affa-d3af-4c93-bd91-43f1ae097e39",
   "metadata": {},
   "source": [
    "Calculating the prior probability "
   ]
  },
  {
   "cell_type": "code",
   "execution_count": 176,
   "id": "03f1f8a6-1a54-418b-98e5-53d6cca0b255",
   "metadata": {},
   "outputs": [
    {
     "name": "stdout",
     "output_type": "stream",
     "text": [
      "{'politics': 337, 'tech': 321, 'business': 407, 'entertainment': 302, 'sport': 413}\n"
     ]
    }
   ],
   "source": [
    "classes = y_train.unique()\n",
    "y_train_df = pd.DataFrame(y_train)\n",
    "counts = {}\n",
    "for label in classes :\n",
    "    counts[label] = len(y_train_df[y_train_df['labels'] == label])\n",
    "\n",
    "print(counts)"
   ]
  },
  {
   "cell_type": "code",
   "execution_count": 177,
   "id": "0a61f922-95d5-499e-9f53-4ca12da1236a",
   "metadata": {},
   "outputs": [
    {
     "name": "stdout",
     "output_type": "stream",
     "text": [
      "{'politics': 0.18932584269662922, 'tech': 0.18033707865168538, 'business': 0.22865168539325842, 'entertainment': 0.1696629213483146, 'sport': 0.23202247191011235}\n"
     ]
    }
   ],
   "source": [
    "class_probability = {}\n",
    "total_nbr = sum(list(counts.values()))\n",
    "for label in classes:\n",
    "    class_probability[label] = counts[label] / total_nbr\n",
    "print(class_probability)"
   ]
  },
  {
   "cell_type": "markdown",
   "id": "7df2f1db-2e67-4b87-952e-b9ac536d7b9c",
   "metadata": {},
   "source": [
    "Calculating likelihoods given a class (Laplace add-1 included). Note that they are calculated on the training Dataset "
   ]
  },
  {
   "cell_type": "markdown",
   "id": "0929f302-b237-457c-a989-a0a61bf8a20a",
   "metadata": {},
   "source": [
    "Regrouping text per class"
   ]
  },
  {
   "cell_type": "code",
   "execution_count": 178,
   "id": "bf05d11c-94c3-4ed9-9213-45d7cb3a666c",
   "metadata": {},
   "outputs": [],
   "source": [
    "text_per_class = {}\n",
    "df_train = pd.concat([X_train,y_train],axis = 1)\n",
    "for label in classes :\n",
    "    text_per_class[label] = ''\n",
    "for label in classes :\n",
    "    text_class = df_train[df_train['labels']== label]\n",
    "    texts = text_class['data']\n",
    "    for text in texts:\n",
    "        text_per_class[label] += str(text)\n",
    "\n",
    "\n"
   ]
  },
  {
   "cell_type": "markdown",
   "id": "872d3e68-4b36-4575-be60-a529f7f4f4e5",
   "metadata": {},
   "source": [
    "Remove punctuation and apply case folding "
   ]
  },
  {
   "cell_type": "code",
   "execution_count": 179,
   "id": "74df7ce7-7fe7-4a11-be1f-44ac7f2d61df",
   "metadata": {},
   "outputs": [],
   "source": [
    "for label in classes:\n",
    "    \n",
    "    text = text_per_class[label]\n",
    "    text = re.sub(r'[^\\w\\s]',' ',text)\n",
    "    text_per_class[label] = text.lower()\n",
    "  "
   ]
  },
  {
   "cell_type": "markdown",
   "id": "3f7bb2b0-119d-4178-8627-1d175c737f26",
   "metadata": {},
   "source": [
    "Tokens per class, frequences per class and probability per class."
   ]
  },
  {
   "cell_type": "code",
   "execution_count": 180,
   "id": "8617d343-de05-48a5-9b91-854373938cf3",
   "metadata": {},
   "outputs": [],
   "source": [
    "# nltk.download('punkt')\n",
    "tokens_per_class = {}\n",
    "for label in classes :\n",
    "    text = text_per_class[label]\n",
    "    tokenized = word_tokenize(text)\n",
    "    tokens_per_class[label] = tokenized\n"
   ]
  },
  {
   "cell_type": "code",
   "execution_count": 181,
   "id": "a9f88f8d-bee8-4005-b8b9-861b14d79ad1",
   "metadata": {},
   "outputs": [],
   "source": [
    "frequences_per_class = {label: {} for label in classes}\n",
    "\n",
    "for label in classes:\n",
    "    tokens = tokens_per_class[label]  \n",
    "    frequences_per_class[label] = dict(Counter(tokens))  #\n",
    "vocabulary = set()\n",
    "for tokens in tokens_per_class.values():\n",
    "    vocabulary.update(tokens)  \n",
    "\n",
    "for label in classes:\n",
    "    for token in vocabulary:\n",
    "        if token in frequences_per_class[label]:\n",
    "            frequences_per_class[label][token] += 1  \n",
    "        else:\n",
    "            frequences_per_class[label][token] = 1 \n",
    "\n"
   ]
  },
  {
   "cell_type": "code",
   "execution_count": 182,
   "id": "891a7f20-e9ce-4c58-8837-090f402527db",
   "metadata": {},
   "outputs": [],
   "source": [
    "probability_per_class = {label: {} for label in classes}\n",
    "\n",
    "total_frequencies_per_class = {label: sum(frequences_per_class[label].values()) for label in classes}\n",
    "\n",
    "for label in classes:\n",
    "    for token in frequences_per_class[label]:\n",
    "        probability_per_class[label][token] = (np.log(\n",
    "            frequences_per_class[label][token] / (total_frequencies_per_class[label] + len(vocabulary))\n",
    "        ))\n",
    "\n"
   ]
  },
  {
   "cell_type": "markdown",
   "id": "c8636eb0-3e04-422c-a05a-8fd8ff9a0f84",
   "metadata": {},
   "source": [
    "### Testing phase"
   ]
  },
  {
   "cell_type": "markdown",
   "id": "14ce8857-71c4-4567-980f-77ecbfa92705",
   "metadata": {},
   "source": [
    "Test set: Tokenization and unknown words removal"
   ]
  },
  {
   "cell_type": "code",
   "execution_count": 183,
   "id": "2261ed97-cdc9-4eef-ac72-7115e07739d8",
   "metadata": {},
   "outputs": [
    {
     "name": "stdout",
     "output_type": "stream",
     "text": [
      "414     [china, now, top, trader, with, japan, china, ...\n",
      "420     [bush, budget, seeks, deep, cutbacks, presiden...\n",
      "1644    [mps, murder, sentence, concern, murder, sente...\n",
      "416     [ge, sees, excellent, world, economy, us, behe...\n",
      "1232    [rush, future, at, chester, uncertain, ian, fu...\n",
      "                              ...                        \n",
      "741     [japanese, banking, battle, at, an, end, japan...\n",
      "205     [disputed, nirvana, box, set, on, sale, a, box...\n",
      "1102    [isinbayeva, claims, new, world, best, pole, v...\n",
      "668     [delta, cuts, fares, in, survival, plan, delta...\n",
      "479     [water, firm, suez, in, argentina, row, a, con...\n",
      "Name: data, Length: 445, dtype: object\n"
     ]
    }
   ],
   "source": [
    "def filter_words_with_tokenizer(text):\n",
    "    tokens = word_tokenize(text.lower())\n",
    "    filtered_tokens = [word for word in tokens if word in vocabulary]\n",
    "    return filtered_tokens  \n",
    "\n",
    "X_test = X_test.apply(filter_words_with_tokenizer)\n",
    "\n",
    "print(X_test)"
   ]
  },
  {
   "cell_type": "code",
   "execution_count": 184,
   "id": "c00b0b92-0583-409d-9e76-82e2884752df",
   "metadata": {},
   "outputs": [],
   "source": [
    "df_test = pd.concat([X_test,y_test],axis = 1)"
   ]
  },
  {
   "cell_type": "code",
   "execution_count": 185,
   "id": "ae9a8135-69b9-40c5-9312-4c54206a3248",
   "metadata": {},
   "outputs": [
    {
     "name": "stdout",
     "output_type": "stream",
     "text": [
      "                                                   data         labels\n",
      "414   [china, now, top, trader, with, japan, china, ...       business\n",
      "420   [bush, budget, seeks, deep, cutbacks, presiden...       business\n",
      "1644  [mps, murder, sentence, concern, murder, sente...       politics\n",
      "416   [ge, sees, excellent, world, economy, us, behe...       business\n",
      "1232  [rush, future, at, chester, uncertain, ian, fu...          sport\n",
      "...                                                 ...            ...\n",
      "741   [japanese, banking, battle, at, an, end, japan...       business\n",
      "205   [disputed, nirvana, box, set, on, sale, a, box...  entertainment\n",
      "1102  [isinbayeva, claims, new, world, best, pole, v...          sport\n",
      "668   [delta, cuts, fares, in, survival, plan, delta...       business\n",
      "479   [water, firm, suez, in, argentina, row, a, con...       business\n",
      "\n",
      "[445 rows x 2 columns]\n"
     ]
    }
   ],
   "source": [
    "print(df_test)"
   ]
  },
  {
   "cell_type": "code",
   "execution_count": 186,
   "id": "5107290e-8976-4ecd-ab9b-b16d95bdf46f",
   "metadata": {},
   "outputs": [
    {
     "name": "stdout",
     "output_type": "stream",
     "text": [
      "    predicted_class\n",
      "0          business\n",
      "1          business\n",
      "2          politics\n",
      "3          business\n",
      "4             sport\n",
      "..              ...\n",
      "440        business\n",
      "441   entertainment\n",
      "442           sport\n",
      "443        business\n",
      "444        business\n",
      "\n",
      "[445 rows x 1 columns]\n"
     ]
    }
   ],
   "source": [
    "predicted_class = {'predicted_class': []}\n",
    "\n",
    "for tokens in X_test:\n",
    "    probaclass = {label: 0 for label in classes}\n",
    "    \n",
    "    for label in classes:\n",
    "        s = 0\n",
    "        for token in tokens:\n",
    "            s += probability_per_class[label].get(token, 0)\n",
    "        probaclass[label] = s  \n",
    "    \n",
    "    predicted_label = max(probaclass, key=probaclass.get)\n",
    "    predicted_class['predicted_class'].append(predicted_label)\n",
    "predicted_class = pd.DataFrame(predicted_class)\n",
    "print(predicted_class)\n"
   ]
  },
  {
   "cell_type": "code",
   "execution_count": 187,
   "id": "17611e5e-e2a0-4b5f-bf79-1b63269a4ec0",
   "metadata": {},
   "outputs": [
    {
     "name": "stdout",
     "output_type": "stream",
     "text": [
      "    predicted_class                                               data  \\\n",
      "0          business  [china, now, top, trader, with, japan, china, ...   \n",
      "1          business  [bush, budget, seeks, deep, cutbacks, presiden...   \n",
      "2          politics  [mps, murder, sentence, concern, murder, sente...   \n",
      "3          business  [ge, sees, excellent, world, economy, us, behe...   \n",
      "4             sport  [rush, future, at, chester, uncertain, ian, fu...   \n",
      "..              ...                                                ...   \n",
      "440        business  [japanese, banking, battle, at, an, end, japan...   \n",
      "441   entertainment  [disputed, nirvana, box, set, on, sale, a, box...   \n",
      "442           sport  [isinbayeva, claims, new, world, best, pole, v...   \n",
      "443        business  [delta, cuts, fares, in, survival, plan, delta...   \n",
      "444        business  [water, firm, suez, in, argentina, row, a, con...   \n",
      "\n",
      "            labels  \n",
      "0         business  \n",
      "1         business  \n",
      "2         politics  \n",
      "3         business  \n",
      "4            sport  \n",
      "..             ...  \n",
      "440       business  \n",
      "441  entertainment  \n",
      "442          sport  \n",
      "443       business  \n",
      "444       business  \n",
      "\n",
      "[445 rows x 3 columns]\n"
     ]
    }
   ],
   "source": [
    "predicted_class_df = pd.DataFrame(predicted_class)\n",
    "\n",
    "predicted_class_df.reset_index(drop=True, inplace=True)\n",
    "df_test.reset_index(drop=True, inplace=True)\n",
    "\n",
    "final_test_set = pd.concat([predicted_class_df, df_test], axis=1)\n",
    "\n",
    "print(final_test_set)\n"
   ]
  },
  {
   "cell_type": "markdown",
   "id": "24944573-1196-416d-97bb-6a135e55f464",
   "metadata": {},
   "source": [
    "### Evaluation"
   ]
  },
  {
   "cell_type": "code",
   "execution_count": 189,
   "id": "05fb96bf-1855-4daf-ba04-6b8995b168b9",
   "metadata": {},
   "outputs": [
    {
     "name": "stdout",
     "output_type": "stream",
     "text": [
      "               precision    recall  f1-score   support\n",
      "\n",
      "     business       0.98      0.94      0.96       103\n",
      "entertainment       1.00      0.95      0.98        84\n",
      "     politics       0.93      0.99      0.96        80\n",
      "        sport       1.00      0.99      0.99        98\n",
      "         tech       0.95      1.00      0.98        80\n",
      "\n",
      "     accuracy                           0.97       445\n",
      "    macro avg       0.97      0.97      0.97       445\n",
      " weighted avg       0.97      0.97      0.97       445\n",
      "\n"
     ]
    }
   ],
   "source": [
    "print(classification_report(final_test_set['labels'], final_test_set['predicted_class']))\n"
   ]
  },
  {
   "cell_type": "code",
   "execution_count": null,
   "id": "2ac366fc-2a0c-47db-8fc4-e532ad0be33c",
   "metadata": {},
   "outputs": [],
   "source": []
  }
 ],
 "metadata": {
  "kernelspec": {
   "display_name": "Python 3 (ipykernel)",
   "language": "python",
   "name": "python3"
  },
  "language_info": {
   "codemirror_mode": {
    "name": "ipython",
    "version": 3
   },
   "file_extension": ".py",
   "mimetype": "text/x-python",
   "name": "python",
   "nbconvert_exporter": "python",
   "pygments_lexer": "ipython3",
   "version": "3.10.10"
  }
 },
 "nbformat": 4,
 "nbformat_minor": 5
}
